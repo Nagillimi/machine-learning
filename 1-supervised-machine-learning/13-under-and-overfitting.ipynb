{
 "cells": [
  {
   "cell_type": "markdown",
   "metadata": {},
   "source": [
    "# Fitting the Data!\n",
    "\n",
    "The goal of a machine learning algorithm is to achieve generalization! Meaning, you want to be able to accuractely predict any outcome, trained from a finite set of input/output pairs. Fitting a model to data can have many problems, categortized into 2: underfitting & overfitting.\n",
    "\n",
    "## Underfitting\n",
    "\n",
    "We've seen examples of underfitting with linear regression, where it tries to fit non-linear data. It results in a poor model that doesn't fit the training set well, and has high bias. Typically registered as a clear pattern that isn't fit by the model.\n",
    "\n",
    "Another word commonly used for underfitting is that an algorithm has high bias.\n",
    "\n",
    "### How to Fix?\n",
    "\n",
    "- use more features (higher order polynomial)\n",
    "\n",
    "## Overfitting\n",
    "\n",
    "You can run into situations, typically when you have many features in a training set, where the model fits the data exactly. Unfortunately, it doesn't generalize well since it only provides perfect results on the data it's been trained on due to it fitting perfectly through a higher-order polynomial fit.\n",
    "\n",
    "Another word commonly used for overfitting is that an algorithm has high variance.\n",
    "\n",
    "### How to Fix?\n",
    "\n",
    "- collect more training examples (not always possible)\n",
    "- use fewer features (reduce polynomial count), called \"feature selection\"\n",
    "- regularization\n",
    "- later, you'll learn about an algorithm you can use to best predict which features you can use to get the best model\n",
    "\n",
    "## Examples\n",
    "\n",
    "### Regression\n",
    "\n",
    "![ ](regression-fit.png)\n",
    "\n",
    "### Classification\n",
    "\n",
    "![ ](classification-fit.png)\n"
   ]
  }
 ],
 "metadata": {
  "language_info": {
   "name": "python"
  },
  "orig_nbformat": 4
 },
 "nbformat": 4,
 "nbformat_minor": 2
}
