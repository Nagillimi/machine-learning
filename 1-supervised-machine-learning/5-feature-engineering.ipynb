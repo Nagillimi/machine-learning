{
 "cells": [
  {
   "cell_type": "markdown",
   "metadata": {},
   "source": [
    "# Feature Engineering\n",
    "\n",
    "If the range of a feature is large, it's often a good idea to choose a small weight parameter to diminish its large effect on the estimation and cost. Visually, this would make the cost function quite skinny in a particaluar axis (the feature with a large range) and would benefit from scaling. Rescaling features involves a transformation to alter the range of the feature, which helps GD find a much clearer path to the minimum.\n",
    "\n",
    "This helps GD a lot!\n",
    "\n",
    "## Scaling Method\n",
    "\n",
    "Ex: $min \\leq x^{(i)} \\leq max$\n",
    "\n",
    "- normalization (divide by max)\n",
    "- mean normalization (center around zero), $x^{(i)} = \\frac{x^{(i)} - \\mu_(i)}{max-min}$\n",
    "- z-score normalization, places it inside a normal distribution. $x^{(i)} = \\frac{x^{(i)} - \\mu_{(i)}}{\\sigma_{(i)}}$\n",
    "\n",
    "Rule of thumb is to have the range of features land around $[-1, 1]$, although there's no harm in rescaling. Note, it'd also beneficial to have each feature centered about the same point; zero in the cases for the mean normalization and z-score methods.\n",
    "\n",
    "![ ](feature-scaling.png)\n",
    "\n",
    "## Relating Features\n",
    "\n",
    "If a set of features combine to create a (potentially) more representative correlation to a particular pattern of outputs, there's often a benefit to create a new feature as the combination/transfomation of the set.\n",
    "\n",
    "Say for example you have 2 features for predicting house value, frontage & depth. It will likely benefit the model to include a third feature for land area = frontage * depth."
   ]
  }
 ],
 "metadata": {
  "language_info": {
   "name": "python"
  },
  "orig_nbformat": 4
 },
 "nbformat": 4,
 "nbformat_minor": 2
}
