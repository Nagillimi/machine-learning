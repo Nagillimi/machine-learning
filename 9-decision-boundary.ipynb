{
 "cells": [
  {
   "cell_type": "markdown",
   "metadata": {},
   "source": [
    "# Decision Boundary\n",
    "\n",
    "## Linear Boundaries \n",
    "\n",
    "From logistic regression, setting the threshold value at 0.5 essentially acted as a decision bounary which classified tumour sizes towards malignancy. Since the logistic function is a probability function, misclassifications are more common near the decision boundaries.\n",
    "\n",
    "Example, predicting positive classification at a threshold of 50/50 (not great for reducing false positives):\n",
    "\n",
    "$g(z) \\geq 0.5$ when $z \\geq 0$ and therefore $f_{\\vec{w}b}(\\vec{x}) \\geq 0$\n",
    "\n",
    "Adding another feature to the model makes $z = w_1x_1 + w_2x_2 + b$ which creates two classes/zones that the features belong to. The line where they meet is called the *decision boundary* and is calculated:\n",
    "\n",
    "$w_1x_1 + w_2x_2 + b = 0$\n",
    "\n",
    "![ ](linear-decision-boundary.png)\n",
    "\n",
    "## Non-linear Boundaries\n",
    "\n",
    "Example:\n",
    "\n",
    "$z = w_1x_1^2 + w_2x_2^2 + b$\n",
    "\n",
    "![ ](non-linear-decision-boundary.png)"
   ]
  }
 ],
 "metadata": {
  "language_info": {
   "name": "python"
  },
  "orig_nbformat": 4
 },
 "nbformat": 4,
 "nbformat_minor": 2
}
