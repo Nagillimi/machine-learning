{
 "cells": [
  {
   "cell_type": "markdown",
   "metadata": {},
   "source": [
    "# Advanced Optimization\n",
    "\n",
    "Our current understanding of Gradient Descent isn't very performant. Let's fix this.\n",
    "\n",
    "Addressing the learning rate, $\\alpha$, we introduce a dynamic update (step size) which creates a smooth path to the center. Called the *Adam* algorithm.\n",
    "\n",
    "Calling in `tensorflow`:"
   ]
  },
  {
   "cell_type": "code",
   "execution_count": 3,
   "metadata": {},
   "outputs": [],
   "source": [
    "import keras\n",
    "\n",
    "model = keras.Sequential([\n",
    "    keras.layers.Dense(units=25, activation='sigmoid'),\n",
    "    keras.layers.Dense(units=15, activation='sigmoid'),\n",
    "    keras.layers.Dense(units=10, activation='linear')\n",
    "])\n",
    "\n",
    "model.compile(\n",
    "    optimizer=keras.optimizers.Adam(learning_rate=1e-3),\n",
    "    loss=keras.losses.SparseCategoricalCrossentropy(from_logits=True)\n",
    ")\n",
    "\n",
    "# model.fit(X,Y,epochs=100)"
   ]
  },
  {
   "cell_type": "markdown",
   "metadata": {},
   "source": [
    "## Additional Layer Types\n",
    "\n",
    "As supposed to the `Dense` layer type, there are other layers with different properties.\n",
    "\n",
    "### Dense \n",
    "\n",
    "Defines the activation as a function of *all* the possible inputs\n",
    "\n",
    "### Convolutional\n",
    "\n",
    "Defines the activation as a function of a subset of the possible inputs.\n",
    "\n",
    "#### Example - EKG\n",
    "\n",
    "Since this is a time series signal, processing is better when looking at a window of time (repeating signal). Although it's good to look at multiple repititions of the signal in the following windows."
   ]
  },
  {
   "cell_type": "markdown",
   "metadata": {},
   "source": [
    "## Back-Propagation\n",
    "\n",
    "Computes all the PDEs simulaetenously for the cost function via the computation graph and has a computation time of $N_{(nodes)} + P_{(params)}$ instead of the direct method which has $N_{(nodes)} x P_{(params)}$."
   ]
  }
 ],
 "metadata": {
  "kernelspec": {
   "display_name": ".venv",
   "language": "python",
   "name": "python3"
  },
  "language_info": {
   "codemirror_mode": {
    "name": "ipython",
    "version": 3
   },
   "file_extension": ".py",
   "mimetype": "text/x-python",
   "name": "python",
   "nbconvert_exporter": "python",
   "pygments_lexer": "ipython3",
   "version": "3.9.10"
  }
 },
 "nbformat": 4,
 "nbformat_minor": 2
}
