{
 "cells": [
  {
   "cell_type": "markdown",
   "metadata": {},
   "source": [
    "# The Path to AGI?\n",
    "\n",
    "\"ANI\" artificial narrow intelligence vs \"G\" for general.\n",
    "\n",
    "- smart speakers\n",
    "- web search\n",
    "- farming analytics\n",
    "\n",
    "Fundamentally, logistic regression is incredibly simple when compared to the functionality of a neuron.\n",
    "\n",
    "The *One Learning Algorithm* hypothesis\n",
    "\n",
    "- the brain has high plasticity, it can relearn new inputs from any sensory data\n",
    "- using the same piece of brain tissue"
   ]
  }
 ],
 "metadata": {
  "language_info": {
   "name": "python"
  }
 },
 "nbformat": 4,
 "nbformat_minor": 2
}
