{
 "cells": [
  {
   "cell_type": "markdown",
   "metadata": {},
   "source": [
    "# Selecting the Learning Rate\n",
    "\n",
    "Symptoms of a bad selection for $\\alpha$:\n",
    "\n",
    "- cost function increases (even slightly or cyclically) over iterations\n",
    "- overshooting\n",
    "\n",
    "A debugging option/hands-on technique is to try a very small $\\alpha$ and see how it converges, & slightly increase it over time {0.001, 0.003, 0.01, 0.03, 0.1, 0.3, 1, etc.}\n",
    "\n"
   ]
  }
 ],
 "metadata": {
  "language_info": {
   "name": "python"
  },
  "orig_nbformat": 4
 },
 "nbformat": 4,
 "nbformat_minor": 2
}
