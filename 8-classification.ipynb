{
 "cells": [
  {
   "cell_type": "markdown",
   "metadata": {},
   "source": [
    "# Classification\n",
    "\n",
    "- logistic regression is employed instead of linear regression, not to be confused for uses in regression supervised learning\n",
    "- class = category\n",
    "- 0 = false\n",
    "- 1 = true\n",
    "- misclassifications = errors\n",
    "- decision boundary\n",
    "\n",
    "## Linear Regression Uses\n",
    "\n",
    "You _can_ use linear regression to classify outputs using thresholds to capture the categoric output (numeric range). This isn't typically employed since it leads to misclassifications from outliers, that pull the thresholds past their previous alignment. Outliers are part of real data and belong to the set of infinite possible inputs, and therefore the decision to use linear regression for classification is prone to fail.\n",
    "\n",
    "![ ](misclassification.png)\n"
   ]
  },
  {
   "cell_type": "markdown",
   "metadata": {},
   "source": [
    "## Logistic Regression\n",
    "\n",
    "Logistic function:\n",
    "\n",
    "$g(z) = \\frac{1}{1 + e^{-z}}$\n",
    "\n",
    "Plugging in the linear regression model for $z$:\n",
    "\n",
    "$z = \\vec{x} \\cdot \\vec{x} + b$\n",
    "\n",
    "Making the logistic regression model, for the \"probability\" that class is 1:\n",
    "\n",
    "$f_{\\vec{w}b}(\\vec{x}) = \\frac{1}{1 + e^{-(\\vec{w} \\cdot \\vec{x} + b)}}$\n",
    "\n",
    "Example:\n",
    "\n",
    "$f_{\\vec{w}b}(\\vec{x}) = 0.7$ means that there's a 70% chance that y is 1\n",
    "\n",
    "In another form, representing the probability that $y$ is 1 given input $\\vec{x}$, parameters $\\vec{w}$ & $b$:\n",
    "\n",
    "$f_{\\vec{w}b}(\\vec{x}) = P(y = 1 | (\\vec{x}); (\\vec{w}), b)$\n",
    "\n",
    "![ ](logistic-regression.png)"
   ]
  },
  {
   "cell_type": "markdown",
   "metadata": {},
   "source": [
    "\n",
    "### Fun Fact\n",
    "\n",
    "Logistic regression was used for many years to provide specific ads to certain users!"
   ]
  }
 ],
 "metadata": {
  "language_info": {
   "name": "python"
  },
  "orig_nbformat": 4
 },
 "nbformat": 4,
 "nbformat_minor": 2
}
