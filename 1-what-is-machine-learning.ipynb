{
 "cells": [
  {
   "cell_type": "markdown",
   "metadata": {},
   "source": [
    "# Machine Learning Algorithms\n",
    "\n",
    "- supervised learning (courses 1 & 2)\n",
    "- unsupervised learning (course 3)\n",
    "\n",
    "# Supervised Learning\n",
    "\n",
    "Give inputs with known outputs. Goal to predict more correct outputs on an infinite number of future inputs based on a small subset of output pairs/mappings.\n",
    "\n",
    "![ ](input-known-output-exs.png)\n",
    "\n",
    "- regression, predicts a number based on a equation of best fit\n",
    "- classification, predicts a small subset of possible output categories, but not all possible outputs in between.\n",
    "\n",
    "(Note: class aka category, can be non-numeric.)\n",
    "\n",
    "# Unsupervised Learning\n",
    "\n",
    "Input isn't tied to any known output, data isn't labelled. Goal to find any structure, pattern, or anything interesting about the data itself.\n",
    "Examples:\n",
    "\n",
    "- clustering, groups data based on similar data\n",
    "    - grouping customers based on metadata, goal to deliver effective marketting\n",
    "    - gene trait arrays, goal to best predict behaviour based on genetics\n",
    "- anomaly detection\n",
    "- dimensionality reduction"
   ]
  }
 ],
 "metadata": {
  "language_info": {
   "name": "python"
  },
  "orig_nbformat": 4
 },
 "nbformat": 4,
 "nbformat_minor": 2
}
